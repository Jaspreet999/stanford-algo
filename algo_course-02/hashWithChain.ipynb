{
 "cells": [
  {
   "cell_type": "code",
   "execution_count": 4,
   "id": "ed6e0839",
   "metadata": {},
   "outputs": [],
   "source": [
    "class Node:\n",
    "    \n",
    "    def __init__(self,value):\n",
    "        self.value = value\n",
    "        self.next = None\n",
    "        \n",
    "\n",
    "class Heap:\n",
    "    \n",
    "    def __init__(self,size):\n",
    "        self.m = size\n",
    "        self.data = [None]*size\n",
    "        \n",
    "    def insert(self,value):\n",
    "        key = value % self.m\n",
    "        \n",
    "        if(self.data[key] == None):\n",
    "            self.data[key] = Node(value)\n",
    "            \n",
    "        else:\n",
    "            \n",
    "            temp = self.data[key]\n",
    "            while(temp.next != None):\n",
    "                temp = temp.next\n",
    "            \n",
    "            temp.next = Node(value)\n",
    "            \n",
    "    def find(self,value):\n",
    "        \n",
    "        key = value % self.m\n",
    "        \n",
    "        if(key < 0): key = -key\n",
    "        \n",
    "        if(self.data[key] == None):\n",
    "            return False\n",
    "        else:\n",
    "            \n",
    "            if(self.data[key].value == value):\n",
    "                return True\n",
    "            \n",
    "            \n",
    "            temp = self.data[key].next\n",
    "            \n",
    "            while(temp != None):\n",
    "                if(temp.value == value):\n",
    "                    return True\n",
    "                    \n",
    "                temp = temp.next\n",
    "            \n",
    "        return False \n",
    "    \n",
    "    def delete(self,value):\n",
    "        \n",
    "        key = value % self.m\n",
    "        if key < 0: key = -key\n",
    "        if(self.data[key] == None):\n",
    "            return False\n",
    "        else:\n",
    "            \n",
    "            if(self.data[key].value == value):\n",
    "                temp = self.data[key]\n",
    "                self.data[key] = temp.next\n",
    "                return True\n",
    "            \n",
    "            prev = self.data[key]\n",
    "            \n",
    "            temp = self.data[key].next\n",
    "            \n",
    "            \n",
    "            while(temp != None):\n",
    "                if(temp.value == value):\n",
    "                    prev = temp.next\n",
    "                    temp = prev\n",
    "                    return True\n",
    "                \n",
    "                prev = temp\n",
    "                temp = temp.next\n",
    "            \n",
    "        return False \n",
    "\n",
    "    \n",
    "    def print_data(self):\n",
    "        \n",
    "        for node in self.data:\n",
    "            while(node != None):\n",
    "                print(node.value)\n",
    "                node = node.next\n",
    "                     \n",
    "        "
   ]
  },
  {
   "cell_type": "code",
   "execution_count": 5,
   "id": "e9072b7f",
   "metadata": {},
   "outputs": [
    {
     "name": "stdout",
     "output_type": "stream",
     "text": [
      "1\n",
      "2\n",
      "3\n",
      "5\n",
      "6\n",
      "7\n",
      "11\n",
      "15\n",
      "-19\n"
     ]
    }
   ],
   "source": [
    "heap = Heap(100000)\n",
    "heap.insert(6)\n",
    "heap.insert(3)\n",
    "heap.insert(1)\n",
    "heap.insert(2)\n",
    "heap.insert(-19)\n",
    "heap.insert(11)\n",
    "heap.insert(7)\n",
    "heap.insert(5)\n",
    "heap.insert(15)\n",
    "\n",
    "heap.print_data()\n"
   ]
  },
  {
   "cell_type": "code",
   "execution_count": 6,
   "id": "0da43105",
   "metadata": {},
   "outputs": [
    {
     "data": {
      "text/plain": [
       "False"
      ]
     },
     "execution_count": 6,
     "metadata": {},
     "output_type": "execute_result"
    }
   ],
   "source": [
    "heap.find(14)"
   ]
  },
  {
   "cell_type": "code",
   "execution_count": 7,
   "id": "efce3b6c",
   "metadata": {},
   "outputs": [
    {
     "data": {
      "text/plain": [
       "True"
      ]
     },
     "execution_count": 7,
     "metadata": {},
     "output_type": "execute_result"
    }
   ],
   "source": [
    "heap.delete(-19)"
   ]
  },
  {
   "cell_type": "code",
   "execution_count": 8,
   "id": "294f7d2c",
   "metadata": {},
   "outputs": [
    {
     "name": "stdout",
     "output_type": "stream",
     "text": [
      "1\n",
      "2\n",
      "3\n",
      "5\n",
      "6\n",
      "7\n",
      "11\n",
      "15\n"
     ]
    }
   ],
   "source": [
    "heap.print_data()"
   ]
  },
  {
   "cell_type": "code",
   "execution_count": 21,
   "id": "9a93aa0a",
   "metadata": {},
   "outputs": [
    {
     "name": "stdout",
     "output_type": "stream",
     "text": [
      "[-99999887310, -99999653362, -99999563583, -99999468029, -99999376014, -99999235943, -99998935964, -99998734333, -99998697266, -99998276867]\n"
     ]
    }
   ],
   "source": [
    "op = open('algo1-programming_prob-2sum.txt','r' )\n",
    "\n",
    "data = []\n",
    "\n",
    "for i in op:\n",
    "    data.append(int(i))\n",
    "\n",
    "\n",
    "for i in data:\n",
    "    heap.insert(i)\n",
    "\n",
    "data.sort()   \n",
    "\n",
    "print(data[:10])"
   ]
  },
  {
   "cell_type": "code",
   "execution_count": null,
   "id": "4bd1c2e6",
   "metadata": {},
   "outputs": [],
   "source": [
    "count = 0\n",
    "sums = []\n",
    "for i in data:\n",
    "    \n",
    "    j = -10000\n",
    "    \n",
    "    while(j<=10000):\n",
    "        if(heap.find(j-i)):\n",
    "            if(j not in sums):\n",
    "                count+=1\n",
    "                sums.append(j)\n",
    "        j+=1   \n",
    "        \n",
    "print(count)        "
   ]
  },
  {
   "cell_type": "code",
   "execution_count": 25,
   "id": "fc79d632",
   "metadata": {
    "scrolled": true
   },
   "outputs": [
    {
     "name": "stdout",
     "output_type": "stream",
     "text": [
      "427\n"
     ]
    }
   ],
   "source": [
    "sums = []\n",
    "\n",
    "i = 0\n",
    "j  = len(data) -1\n",
    "\n",
    "while i<=j:\n",
    "    \n",
    "    if(data[i] + data[j] < -10000):\n",
    "        i+=1\n",
    "    elif(data[i] + data[j] > 10000):\n",
    "        j-=1\n",
    "    else:\n",
    "        while(data[i]+data[j]<=10000):\n",
    "            if data[i]!=data[j]:\n",
    "                if data[i]+data[j] not in sums:\n",
    "                    sums.append(data[i]+data[j])\n",
    "            i+=1\n",
    "        j-=1 \n",
    "        \n",
    "print(len(sums))        "
   ]
  },
  {
   "cell_type": "code",
   "execution_count": null,
   "id": "13138996",
   "metadata": {},
   "outputs": [],
   "source": []
  }
 ],
 "metadata": {
  "kernelspec": {
   "display_name": "Python 3",
   "language": "python",
   "name": "python3"
  }
 },
 "nbformat": 4,
 "nbformat_minor": 5
}
