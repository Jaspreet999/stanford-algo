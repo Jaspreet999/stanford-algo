{
 "cells": [
  {
   "cell_type": "markdown",
   "id": "ff3e7c9b",
   "metadata": {},
   "source": [
    "# Knapsack problem"
   ]
  },
  {
   "cell_type": "code",
   "execution_count": 241,
   "id": "b7341fb3",
   "metadata": {},
   "outputs": [
    {
     "name": "stdout",
     "output_type": "stream",
     "text": [
      "10000\n"
     ]
    }
   ],
   "source": [
    "op = open('knapsack1.txt','r')\n",
    "\n",
    "temp = []\n",
    "\n",
    "for i in op:\n",
    "    temp.append(i.split(' '))\n",
    "\n",
    "size = int(temp.pop(0)[0])    \n",
    "print(size)\n",
    "\n",
    "v = []\n",
    "w = []\n",
    "\n",
    "for i in temp:\n",
    "    v.append(int(i[0]))\n",
    "    w.append(int(i[1]))\n"
   ]
  },
  {
   "cell_type": "code",
   "execution_count": 185,
   "id": "e9c4e08e",
   "metadata": {},
   "outputs": [
    {
     "name": "stdout",
     "output_type": "stream",
     "text": [
      "2493893\n"
     ]
    }
   ],
   "source": [
    "# v = [60,100,120]\n",
    "# w = [10,20,30]\n",
    "\n",
    "# size = 50\n",
    "\n",
    "dp = [[0 for i in range(size+1)] for j in range(len(v)+1)]\n",
    "      \n",
    "    \n",
    "for i in range(1,len(v)+1):\n",
    "    for j in range(1,size+1):\n",
    "        if w[i-1] <= j:\n",
    "            dp[i][j]= max(dp[i-1][j],dp[i-1][j-w[i-1]]+v[i-1])\n",
    "        else:\n",
    "            dp[i][j] = dp[i-1][j]\n",
    "                \n",
    "        \n",
    "            \n",
    "print(dp[len(v)][size])            "
   ]
  },
  {
   "cell_type": "markdown",
   "id": "2589867b",
   "metadata": {},
   "source": [
    "# knapsack for big one"
   ]
  },
  {
   "cell_type": "code",
   "execution_count": 239,
   "id": "2918f3fc",
   "metadata": {},
   "outputs": [],
   "source": [
    "dicts = {}"
   ]
  },
  {
   "cell_type": "code",
   "execution_count": 243,
   "id": "9c8a90e3",
   "metadata": {},
   "outputs": [
    {
     "name": "stdout",
     "output_type": "stream",
     "text": [
      "2000000\n"
     ]
    }
   ],
   "source": [
    "op = open('knapsack_big.txt','r')\n",
    "\n",
    "temp = []\n",
    "\n",
    "for i in op:\n",
    "    temp.append(i.split(' '))\n",
    "\n",
    "size1 = int(temp.pop(0)[0])    \n",
    "print(size1)\n",
    "\n",
    "v1 = []\n",
    "w1 = []\n",
    "\n",
    "for i in temp:\n",
    "    v1.append(int(i[0]))\n",
    "    w1.append(int(i[1]))\n"
   ]
  },
  {
   "cell_type": "code",
   "execution_count": 246,
   "id": "ff568819",
   "metadata": {},
   "outputs": [],
   "source": [
    "import sys\n",
    "sys.setrecursionlimit(10**6)\n",
    "\n",
    "def knapsack(size,n):\n",
    "    \n",
    "    if n == 0 or size == 0:\n",
    "        return 0\n",
    "    \n",
    "    if size < w1[n-1] :\n",
    "        temp = knapsack(size,n-1)\n",
    "        dicts[str(n)+str(size)] = temp\n",
    "        return temp\n",
    "    \n",
    "    if (str(n)+str(size) in dicts.keys()):\n",
    "        return dicts[str(n)+str(size)]\n",
    "        \n",
    "    else:\n",
    "        temp = max(knapsack(size,n-1),v1[n-1]+knapsack(size-w1[n-1],n-1))\n",
    "        dicts[str(n)+str(size)] =temp\n",
    "        return temp\n",
    "             \n",
    "    \n",
    "       "
   ]
  },
  {
   "cell_type": "code",
   "execution_count": 247,
   "id": "0f011562",
   "metadata": {},
   "outputs": [
    {
     "name": "stdout",
     "output_type": "stream",
     "text": [
      "10000\n",
      "2493893\n"
     ]
    }
   ],
   "source": [
    "# v = [60,100,120]\n",
    "# w = [10,20,30]\n",
    "\n",
    "# size = 50\n",
    "\n",
    "print(size)\n",
    "print(knapsack(size1,2000))"
   ]
  },
  {
   "cell_type": "code",
   "execution_count": null,
   "id": "9db16c89",
   "metadata": {},
   "outputs": [],
   "source": []
  }
 ],
 "metadata": {
  "kernelspec": {
   "display_name": "Python 3",
   "language": "python",
   "name": "python3"
  }
 },
 "nbformat": 4,
 "nbformat_minor": 5
}
