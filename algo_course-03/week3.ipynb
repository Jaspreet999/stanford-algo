{
 "cells": [
  {
   "cell_type": "code",
   "execution_count": 212,
   "id": "0ac3370b",
   "metadata": {},
   "outputs": [],
   "source": [
    "from dataclasses import dataclass, field\n",
    "\n",
    "@dataclass(order=True)\n",
    "class Node:\n",
    "    weight:int\n",
    "    left: None = field(compare = False)\n",
    "    right: None = field(compare=False) \n",
    "    huff:str = field(compare = False)\n",
    "    \n",
    "    def __init__(self,weight):\n",
    "        self.weight = weight\n",
    "        self.left = None\n",
    "        self.right = None\n",
    "        self.huff = ''"
   ]
  },
  {
   "cell_type": "code",
   "execution_count": 273,
   "id": "895eb0ae",
   "metadata": {},
   "outputs": [],
   "source": [
    "op = open('huffman.txt','r')\n",
    "\n",
    "d = []\n",
    "\n",
    "temp = []\n",
    "for i in op:\n",
    "    d.append(int(i))\n",
    "    temp.append(Node(int(i)))\n",
    "    \n",
    "d.pop(0)\n",
    "temp.pop(0)\n",
    "\n",
    "maxF = max(d)\n",
    "minF = min(d)    \n",
    "\n",
    "nodes = []\n",
    "\n",
    "heapq.heapify(temp)"
   ]
  },
  {
   "cell_type": "code",
   "execution_count": 274,
   "id": "dd450510",
   "metadata": {},
   "outputs": [
    {
     "name": "stdout",
     "output_type": "stream",
     "text": [
      "4990911370\n"
     ]
    }
   ],
   "source": [
    "import heapq\n",
    "\n",
    "# temp = []\n",
    "\n",
    "# nodes = []\n",
    "\n",
    "# d = [5,9,12,13,16,45]\n",
    "\n",
    "# for i in d:\n",
    "#     temp.append(Node(i))\n",
    "    \n",
    "# heapq.heapify(temp)\n",
    "\n",
    "# maxF = max(d)\n",
    "# minF = min(d)\n",
    "\n",
    "while(len(temp) > 1):\n",
    "    \n",
    "    x = heapq.heappop(temp)\n",
    "    y = heapq.heappop(temp)\n",
    "    x.huff = 0\n",
    "    y.huff = 1    \n",
    "    \n",
    "    node = Node(x.weight + y.weight)\n",
    "    node.left = x\n",
    "    node.right = y\n",
    "    heapq.heappush(temp,node)\n",
    "\n",
    "root = temp[0]\n",
    "print(root.weight)"
   ]
  },
  {
   "cell_type": "code",
   "execution_count": 277,
   "id": "1b8b54ff",
   "metadata": {},
   "outputs": [
    {
     "name": "stdout",
     "output_type": "stream",
     "text": [
      "9979223 9\n",
      "1873 19\n",
      "None\n"
     ]
    }
   ],
   "source": [
    "\n",
    "def printNode(root,code=' '):\n",
    "    \n",
    "    newCode = code + str(root.huff)\n",
    "    \n",
    "    if(root.left):\n",
    "        printNode(root.left,newCode)\n",
    "    if(root.right):\n",
    "        printNode(root.right,newCode)\n",
    "    if(root.left == None and root.right == None):\n",
    "        \n",
    "        if(root.weight == minF or root.weight == maxF):\n",
    "            print(root.weight,len(newCode)-1)\n",
    "            \n",
    "print(printNode(root))"
   ]
  },
  {
   "cell_type": "markdown",
   "id": "43b1b80c",
   "metadata": {},
   "source": [
    "# Dp problem"
   ]
  },
  {
   "cell_type": "code",
   "execution_count": 267,
   "id": "d13b1c65",
   "metadata": {},
   "outputs": [
    {
     "name": "stdout",
     "output_type": "stream",
     "text": [
      "1000\n"
     ]
    }
   ],
   "source": [
    "op1 = open('mwis.txt','r')\n",
    "\n",
    "size = 0\n",
    "\n",
    "nodes = []\n",
    "\n",
    "for i in op1:\n",
    "    nodes.append(int(i))\n",
    "\n",
    "size = nodes.pop(0)\n",
    "print(size)"
   ]
  },
  {
   "cell_type": "code",
   "execution_count": 266,
   "id": "423504e9",
   "metadata": {},
   "outputs": [
    {
     "name": "stdout",
     "output_type": "stream",
     "text": [
      "2950698717\n"
     ]
    }
   ],
   "source": [
    "# size = 10\n",
    "A = [0]*size\n",
    "# nodes = [460,250,730,63,379,638,122,435,705]\n",
    "\n",
    "A[0] = 0 \n",
    "A[1] = nodes[0]\n",
    "\n",
    "\n",
    "i = 2\n",
    "\n",
    "while i != size: \n",
    "    A[i] = max(A[i-1],A[i-2]+nodes[i-1])\n",
    "    i+=1\n",
    "\n",
    "print(A[size-1])\n"
   ]
  },
  {
   "cell_type": "code",
   "execution_count": 265,
   "id": "40333e22",
   "metadata": {},
   "outputs": [],
   "source": [
    "i = size\n",
    "node=[]\n",
    "\n",
    "while i >= 1:\n",
    "    \n",
    "    if( A[i-1] >= A[i-2] + nodes[i-1]):\n",
    "        i-=1\n",
    "    else:\n",
    "        node.append(i)\n",
    "        i-=2 \n",
    "# print(node)              "
   ]
  },
  {
   "cell_type": "code",
   "execution_count": 263,
   "id": "b985544d",
   "metadata": {},
   "outputs": [],
   "source": [
    "res = [1,2,3,4,17,117,517,997]\n",
    "s = \"\"\n",
    "for i in res:\n",
    "    if(i in node):\n",
    "        s = s+ \"1\"\n",
    "    else:\n",
    "        s = s+\"0\""
   ]
  },
  {
   "cell_type": "code",
   "execution_count": 264,
   "id": "c72e1ab4",
   "metadata": {},
   "outputs": [
    {
     "name": "stdout",
     "output_type": "stream",
     "text": [
      "10100110\n"
     ]
    }
   ],
   "source": [
    "print(s)"
   ]
  },
  {
   "cell_type": "code",
   "execution_count": null,
   "id": "413ed8a5",
   "metadata": {},
   "outputs": [],
   "source": []
  }
 ],
 "metadata": {
  "kernelspec": {
   "display_name": "Python 3",
   "language": "python",
   "name": "python3"
  },
  "language_info": {
   "codemirror_mode": {
    "name": "ipython",
    "version": 3
   },
   "file_extension": ".py",
   "mimetype": "text/x-python",
   "name": "python",
   "nbconvert_exporter": "python",
   "pygments_lexer": "ipython3",
   "version": "3.8.8"
  }
 },
 "nbformat": 4,
 "nbformat_minor": 5
}
