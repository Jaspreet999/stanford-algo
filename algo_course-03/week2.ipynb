{
 "cells": [
  {
   "cell_type": "code",
   "execution_count": 325,
   "id": "47988389",
   "metadata": {},
   "outputs": [
    {
     "name": "stdout",
     "output_type": "stream",
     "text": [
      "124750\n"
     ]
    }
   ],
   "source": [
    "class Graph:\n",
    "    def __init__(self,s,d,dis):\n",
    "        self.s = s\n",
    "        self.d = d\n",
    "        self.dis = dis\n",
    "    \n",
    "\n",
    "op = open('clustering1.txt','r')\n",
    "\n",
    "temp = []\n",
    "\n",
    "for i in op:\n",
    "    temp.append(i.split(\" \"))\n",
    "    \n",
    "graph = []\n",
    "\n",
    "nodes = int((temp[0][0]))\n",
    "\n",
    "\n",
    "for i in temp[1:]:\n",
    "    graph.append(Graph(int(i[0]), int(i[1]), int(i[2])))\n",
    "    \n",
    "print(len(graph))"
   ]
  },
  {
   "cell_type": "code",
   "execution_count": 326,
   "id": "d5e46021",
   "metadata": {},
   "outputs": [],
   "source": [
    "graph.sort(key = lambda x:x.dis)"
   ]
  },
  {
   "cell_type": "code",
   "execution_count": 327,
   "id": "09337dc3",
   "metadata": {},
   "outputs": [],
   "source": [
    "#union find\n",
    "\n",
    "parent = [i for i in range(0,nodes+1)]\n",
    "rank = [0]*(nodes+1)\n",
    "\n",
    "def find(x):\n",
    "    \n",
    "    if(parent[x] != x):\n",
    "        parent[x] = find(parent[x])\n",
    "        \n",
    "    return parent[x]\n",
    "\n",
    "def union(x,y):\n",
    "    \n",
    "    if(rank[x] > rank[y]):\n",
    "        parent[y] = parent[x]\n",
    "        rank[x] +=1\n",
    "        \n",
    "    elif(rank[x] < rank[y]):\n",
    "        parent[x] = parent[y]\n",
    "        rank[y] += 1\n",
    "        \n",
    "    else:\n",
    "        parent[y] = parent[x]\n",
    "        rank[x] +=1\n",
    "\n",
    "# def numClusters():\n",
    "#     count = 0\n",
    "#     for i in range(1,nodes+1):\n",
    "#         if(i == parent[i]):\n",
    "#             count+=1\n",
    "#     return count        "
   ]
  },
  {
   "cell_type": "code",
   "execution_count": 328,
   "id": "fc0d51cd",
   "metadata": {},
   "outputs": [
    {
     "name": "stdout",
     "output_type": "stream",
     "text": [
      "232 403 97 4\n",
      "414 455 106\n"
     ]
    }
   ],
   "source": [
    "i = 0\n",
    "j = 0\n",
    "\n",
    "clusters = 4\n",
    "\n",
    "while j < nodes-clusters:\n",
    "    \n",
    "    a = find(graph[i].s)\n",
    "    b = find(graph[i].d)\n",
    "    \n",
    "    if(a != b):\n",
    "        union(a,b)\n",
    "        j+=1\n",
    "    i+=1\n",
    "    \n",
    "# print(graph[i].s,graph[i].d,graph[i].dis,numClusters())\n",
    "    \n",
    "while(i):\n",
    "    a = find(graph[i].s)\n",
    "    b = find(graph[i].d)\n",
    "    \n",
    "    if(a != b):\n",
    "        print(graph[i].s,graph[i].d,graph[i].dis)\n",
    "        break  \n",
    "    i+=1"
   ]
  },
  {
   "cell_type": "markdown",
   "id": "2fdf0218",
   "metadata": {},
   "source": [
    "# assignment part 2"
   ]
  },
  {
   "cell_type": "code",
   "execution_count": 379,
   "id": "e71a3682",
   "metadata": {},
   "outputs": [
    {
     "name": "stdout",
     "output_type": "stream",
     "text": [
      "24\n",
      "198788\n"
     ]
    }
   ],
   "source": [
    "\n",
    "op1 = open('clustering_big.txt','r')\n",
    "\n",
    "temp = []\n",
    "\n",
    "for i in op1:\n",
    "    temp.append(i.split(\" \"))\n",
    "        \n",
    "\n",
    "bit = int(temp[0][1])\n",
    "print(bit)\n",
    "\n",
    "maps = {}\n",
    "\n",
    "for i in temp[1:]:\n",
    "    \n",
    "    intmask = int(\"\".join(i),2)\n",
    "    \n",
    "    if( intmask in maps.keys()):\n",
    "        maps[intmask].append(i)\n",
    "    else:\n",
    "        maps[intmask] = []\n",
    "        maps[intmask].append(i)\n",
    "        \n",
    "print(len(maps.keys()))    "
   ]
  },
  {
   "cell_type": "code",
   "execution_count": 380,
   "id": "32ec8ab0",
   "metadata": {},
   "outputs": [
    {
     "name": "stdout",
     "output_type": "stream",
     "text": [
      "[0, 1, 2, 3, 4, 5, 6, 8, 9, 10, 12, 16, 17, 18, 20, 24, 32, 33, 34, 36, 40, 48, 64, 65, 66, 68, 72, 80, 96, 128, 129, 130, 132, 136, 144, 160, 192, 256, 257, 258, 260, 264, 272, 288, 320, 384, 512, 513, 514, 516, 520, 528, 544, 576, 640, 768, 1024, 1025, 1026, 1028, 1032, 1040, 1056, 1088, 1152, 1280, 1536, 2048, 2049, 2050, 2052, 2056, 2064, 2080, 2112, 2176, 2304, 2560, 3072, 4096, 4097, 4098, 4100, 4104, 4112, 4128, 4160, 4224, 4352, 4608, 5120, 6144, 8192, 8193, 8194, 8196, 8200, 8208, 8224, 8256, 8320, 8448, 8704, 9216, 10240, 12288, 16384, 16385, 16386, 16388, 16392, 16400, 16416, 16448, 16512, 16640, 16896, 17408, 18432, 20480, 24576, 32768, 32769, 32770, 32772, 32776, 32784, 32800, 32832, 32896, 33024, 33280, 33792, 34816, 36864, 40960, 49152, 65536, 65537, 65538, 65540, 65544, 65552, 65568, 65600, 65664, 65792, 66048, 66560, 67584, 69632, 73728, 81920, 98304, 131072, 131073, 131074, 131076, 131080, 131088, 131104, 131136, 131200, 131328, 131584, 132096, 133120, 135168, 139264, 147456, 163840, 196608, 262144, 262145, 262146, 262148, 262152, 262160, 262176, 262208, 262272, 262400, 262656, 263168, 264192, 266240, 270336, 278528, 294912, 327680, 393216, 524288, 524289, 524290, 524292, 524296, 524304, 524320, 524352, 524416, 524544, 524800, 525312, 526336, 528384, 532480, 540672, 557056, 589824, 655360, 786432, 1048576, 1048577, 1048578, 1048580, 1048584, 1048592, 1048608, 1048640, 1048704, 1048832, 1049088, 1049600, 1050624, 1052672, 1056768, 1064960, 1081344, 1114112, 1179648, 1310720, 1572864, 2097152, 2097153, 2097154, 2097156, 2097160, 2097168, 2097184, 2097216, 2097280, 2097408, 2097664, 2098176, 2099200, 2101248, 2105344, 2113536, 2129920, 2162688, 2228224, 2359296, 2621440, 3145728, 4194304, 4194305, 4194306, 4194308, 4194312, 4194320, 4194336, 4194368, 4194432, 4194560, 4194816, 4195328, 4196352, 4198400, 4202496, 4210688, 4227072, 4259840, 4325376, 4456448, 4718592, 5242880, 6291456, 8388608, 8388609, 8388610, 8388612, 8388616, 8388624, 8388640, 8388672, 8388736, 8388864, 8389120, 8389632, 8390656, 8392704, 8396800, 8404992, 8421376, 8454144, 8519680, 8650752, 8912896, 9437184, 10485760, 12582912]\n"
     ]
    }
   ],
   "source": [
    "#storing distances whose less than three bits active\n",
    "bitmask = [1 << i for i in range(bit)]\n",
    "bitmask.append(0)\n",
    "\n",
    "for i in range(bit):\n",
    "    for j in range(i+1,bit):\n",
    "        bits = list(\"0\"*bit)\n",
    "        bits[i] = '1'\n",
    "        bits[j] = '1'\n",
    "        bitmask.append(int(\"\".join(bits),2))\n",
    "        \n",
    "bitmask.sort()        \n",
    "print(bitmask)"
   ]
  },
  {
   "cell_type": "code",
   "execution_count": 381,
   "id": "ac002d4c",
   "metadata": {},
   "outputs": [],
   "source": [
    "\"\"\"\n",
    "Union-find data structure.\n",
    "\"\"\"\n",
    "\n",
    "from networkx.utils import groups\n",
    "\n",
    "\n",
    "class UnionFind:\n",
    "    \"\"\"Union-find data structure.\n",
    "\n",
    "    Each unionFind instance X maintains a family of disjoint sets of\n",
    "    hashable objects, supporting the following two methods:\n",
    "\n",
    "    - X[item] returns a name for the set containing the given item.\n",
    "      Each set is named by an arbitrarily-chosen one of its members; as\n",
    "      long as the set remains unchanged it will keep the same name. If\n",
    "      the item is not yet part of a set in X, a new singleton set is\n",
    "      created for it.\n",
    "\n",
    "    - X.union(item1, item2, ...) merges the sets containing each item\n",
    "      into a single larger set.  If any item is not yet part of a set\n",
    "      in X, it is added to X as one of the members of the merged set.\n",
    "\n",
    "      Union-find data structure. Based on Josiah Carlson's code,\n",
    "      https://code.activestate.com/recipes/215912/\n",
    "      with significant additional changes by D. Eppstein.\n",
    "      http://www.ics.uci.edu/~eppstein/PADS/UnionFind.py\n",
    "\n",
    "    \"\"\"\n",
    "\n",
    "    def __init__(self, elements=None):\n",
    "        \"\"\"Create a new empty union-find structure.\n",
    "\n",
    "        If *elements* is an iterable, this structure will be initialized\n",
    "        with the discrete partition on the given set of elements.\n",
    "\n",
    "        \"\"\"\n",
    "        if elements is None:\n",
    "            elements = ()\n",
    "        self.parents = {}\n",
    "        self.weights = {}\n",
    "        for x in elements:\n",
    "            self.weights[x] = 1\n",
    "            self.parents[x] = x\n",
    "\n",
    "    def __getitem__(self, object):\n",
    "        \"\"\"Find and return the name of the set containing the object.\"\"\"\n",
    "\n",
    "        # check for previously unknown object\n",
    "        if object not in self.parents:\n",
    "            self.parents[object] = object\n",
    "            self.weights[object] = 1\n",
    "            return object\n",
    "\n",
    "        # find path of objects leading to the root\n",
    "        path = [object]\n",
    "        root = self.parents[object]\n",
    "        while root != path[-1]:\n",
    "            path.append(root)\n",
    "            root = self.parents[root]\n",
    "\n",
    "        # compress the path and return\n",
    "        for ancestor in path:\n",
    "            self.parents[ancestor] = root\n",
    "        return root\n",
    "\n",
    "    def __iter__(self):\n",
    "        \"\"\"Iterate through all items ever found or unioned by this structure.\"\"\"\n",
    "        return iter(self.parents)\n",
    "\n",
    "    def to_sets(self):\n",
    "        \"\"\"Iterates over the sets stored in this structure.\n",
    "\n",
    "        For example::\n",
    "\n",
    "            >>> partition = UnionFind(\"xyz\")\n",
    "            >>> sorted(map(sorted, partition.to_sets()))\n",
    "            [['x'], ['y'], ['z']]\n",
    "            >>> partition.union(\"x\", \"y\")\n",
    "            >>> sorted(map(sorted, partition.to_sets()))\n",
    "            [['x', 'y'], ['z']]\n",
    "\n",
    "        \"\"\"\n",
    "        # Ensure fully pruned paths\n",
    "        for x in self.parents.keys():\n",
    "            _ = self[x]  # Evaluated for side-effect only\n",
    "\n",
    "        yield from groups(self.parents).values()\n",
    "\n",
    "    def union(self, *objects):\n",
    "        \"\"\"Find the sets containing the objects and merge them all.\"\"\"\n",
    "        # Find the heaviest root according to its weight.\n",
    "        roots = iter(\n",
    "            sorted(\n",
    "                {self[x] for x in objects}, key=lambda r: self.weights[r], reverse=True\n",
    "            )\n",
    "        )\n",
    "        try:\n",
    "            root = next(roots)\n",
    "        except StopIteration:\n",
    "            return\n",
    "\n",
    "        for r in roots:\n",
    "            self.weights[root] += self.weights[r]\n",
    "            self.parents[r] = root"
   ]
  },
  {
   "cell_type": "code",
   "execution_count": 382,
   "id": "f80d0ded",
   "metadata": {},
   "outputs": [],
   "source": [
    "x = UnionFind(maps.keys())\n",
    "\n",
    "for i in bitmask:\n",
    "    for j in maps.keys():\n",
    "        if i^j in maps.keys():\n",
    "            x.union(j,i^j)"
   ]
  },
  {
   "cell_type": "code",
   "execution_count": 383,
   "id": "474df6ca",
   "metadata": {},
   "outputs": [
    {
     "name": "stdout",
     "output_type": "stream",
     "text": [
      "6118\n"
     ]
    }
   ],
   "source": [
    "k = []\n",
    "\n",
    "for i in maps.keys():\n",
    "    if x.__getitem__(i) not in k:\n",
    "        k.append(x.__getitem__(i))\n",
    "print(len(k))        "
   ]
  },
  {
   "cell_type": "code",
   "execution_count": null,
   "id": "c582d91a",
   "metadata": {},
   "outputs": [],
   "source": []
  }
 ],
 "metadata": {
  "kernelspec": {
   "display_name": "Python 3",
   "language": "python",
   "name": "python3"
  },
  "language_info": {
   "codemirror_mode": {
    "name": "ipython",
    "version": 3
   },
   "file_extension": ".py",
   "mimetype": "text/x-python",
   "name": "python",
   "nbconvert_exporter": "python",
   "pygments_lexer": "ipython3",
   "version": "3.8.8"
  }
 },
 "nbformat": 4,
 "nbformat_minor": 5
}
