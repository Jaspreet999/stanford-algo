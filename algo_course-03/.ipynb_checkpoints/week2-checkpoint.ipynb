{
 "cells": [
  {
   "cell_type": "code",
   "execution_count": 60,
   "id": "47988389",
   "metadata": {},
   "outputs": [],
   "source": [
    "class Graph:\n",
    "    def __init__(self,s,d,dis):\n",
    "        self.s = s\n",
    "        self.d = d\n",
    "        self.dis = dis\n",
    "    \n",
    "# nodes = 7   \n",
    "# graph = []\n",
    "\n",
    "# graph.append(Graph(3,7,8))\n",
    "# graph.append(Graph(3,5,6))\n",
    "# graph.append(Graph(3,6,7)) \n",
    "# graph.append(Graph(4,5,5)) \n",
    "# graph.append(Graph(4,6,6)) \n",
    "# graph.append(Graph(6,7,1)) \n",
    "# graph.append(Graph(5,7,2)) \n",
    "# graph.append(Graph(5,6,1)) \n",
    "# graph.append(Graph(4,7,7)) \n",
    "# graph.append(Graph(1,2,1))\n",
    "# graph.append(Graph(1,3,4))\n",
    "# graph.append(Graph(1,4,5))\n",
    "# graph.append(Graph(1,5,10))\n",
    "# graph.append(Graph(1,6,11))\n",
    "# graph.append(Graph(1,7,12))\n",
    "# graph.append(Graph(2,3,3))\n",
    "# graph.append(Graph(2,4,4))\n",
    "# graph.append(Graph(2,5,9))\n",
    "# graph.append(Graph(2,6,10)) \n",
    "# graph.append(Graph(2,7,11)) \n",
    "# graph.append(Graph(3,4,1)) \n",
    " \n",
    "\n",
    "op = open('testdata.txt','r')\n",
    "\n",
    "temp = []\n",
    "\n",
    "for i in op:\n",
    "    temp.append(i.split(\" \"))\n",
    "    \n",
    "graph = []\n",
    "\n",
    "nodes = int((temp[0][0]))\n",
    "temp.pop(0)\n",
    "\n",
    "for i in temp:\n",
    "    graph.append(Graph(int(i[0]), int(i[1]), int(i[2])))\n"
   ]
  },
  {
   "cell_type": "code",
   "execution_count": 57,
   "id": "d5e46021",
   "metadata": {},
   "outputs": [],
   "source": [
    "graph.sort(key = lambda x:x.dis)"
   ]
  },
  {
   "cell_type": "code",
   "execution_count": 61,
   "id": "09337dc3",
   "metadata": {},
   "outputs": [],
   "source": [
    "#union find\n",
    "\n",
    "parent = [i for i in range(0,nodes+1)]\n",
    "rank = [0]*(nodes+1)\n",
    "\n",
    "def find(x):\n",
    "    \n",
    "    if(parent[x] != x):\n",
    "        parent[x] = find(parent[x])\n",
    "        \n",
    "    return parent[x]\n",
    "\n",
    "def union(x,y):\n",
    "    \n",
    "    a = find(x)\n",
    "    b = find(y)\n",
    "    \n",
    "    if(a == b):\n",
    "        return False\n",
    "    \n",
    "    if(rank[x] > rank[y]):\n",
    "        parent[y] = x\n",
    "        \n",
    "    elif(rank[x] < rank[y]):\n",
    "        parent[x] = y\n",
    "        \n",
    "    else:\n",
    "        parent[x] = y\n",
    "        rank[y] = rank[y] + 1\n",
    "        \n",
    "    return True"
   ]
  },
  {
   "cell_type": "code",
   "execution_count": 62,
   "id": "fc0d51cd",
   "metadata": {},
   "outputs": [
    {
     "name": "stdout",
     "output_type": "stream",
     "text": [
      "496\n",
      "496 496\n",
      "1 498 9353\n",
      "9353\n"
     ]
    }
   ],
   "source": [
    "i = 0\n",
    "j = 0\n",
    "\n",
    "clusters = 4\n",
    "print(nodes-clusters)\n",
    "while i < nodes-clusters:\n",
    "    \n",
    "    if(find(graph[j].s) != find(graph[j].d)):\n",
    "        union(graph[j].s,graph[j].d)\n",
    "        i+=1\n",
    "    j+=1\n",
    "print(i,j)\n",
    "print(graph[j].s,graph[j].d,graph[j].dis)    \n",
    "        \n",
    "for j in range(j,len(graph)):\n",
    "            \n",
    "    if(find(graph[j].s) != find(graph[j].d)):\n",
    "        print(graph[j].dis)\n",
    "        break\n",
    "    j+=1"
   ]
  },
  {
   "cell_type": "code",
   "execution_count": null,
   "id": "10c7372f",
   "metadata": {},
   "outputs": [],
   "source": []
  }
 ],
 "metadata": {
  "kernelspec": {
   "display_name": "Python 3",
   "language": "python",
   "name": "python3"
  },
  "language_info": {
   "codemirror_mode": {
    "name": "ipython",
    "version": 3
   },
   "file_extension": ".py",
   "mimetype": "text/x-python",
   "name": "python",
   "nbconvert_exporter": "python",
   "pygments_lexer": "ipython3",
   "version": "3.8.8"
  }
 },
 "nbformat": 4,
 "nbformat_minor": 5
}
